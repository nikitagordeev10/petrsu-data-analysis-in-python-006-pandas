{
 "cells": [
  {
   "cell_type": "markdown",
   "metadata": {},
   "source": [
    "Создайте функцию frame_data(values, indices), где values – двумерный список чисел размера n x m (n =  2, 3, …; m =  2, 3, …), indices – список из односимвольных значений длиной n. В этой функции:\n",
    "\n",
    "- Со значениями values и индексами indices создайте объект df класса DataFrame.\n",
    "- Отсортируйте df по убыванию значения индекса. \n",
    "- Все значения в df увеличьте на 2.\n",
    "- К элементам последнего столбца добавьте элементы первого по счету столбца.\n",
    "\n",
    "Функция frame_data() должна с помощью return возвращать значение последнего элемента последней строки df.\n",
    "\n",
    "Для примера:\n",
    "\n",
    "| Тест                                     | Результат |\n",
    "| ---------------------------------------- | --------- |\n",
    "| print(frame_data([[1,11,21],[1,2,3],[-1,-2,-3]], ['V','E','F'])) | 8      |\n",
    "| print(frame_data([[111,111,31,41,51,116],[141,15,61,6,717,160],[77,82,91,324,314,10]], ['Z','E','F'])) | 305      |\n"
   ]
  },
  {
   "cell_type": "code",
   "execution_count": 5,
   "metadata": {},
   "outputs": [],
   "source": [
    "import pandas as pd\n",
    "\n",
    "def frame_data(values, indices):\n",
    "    # Создаем DataFrame с данными из values и индексами из indices\n",
    "    df = pd.DataFrame(values, index=indices)\n",
    "    print(df)    \n",
    "\n",
    "    # Сортируем DataFrame по убыванию значений индекса\n",
    "    df = df.sort_index(ascending=False)\n",
    "    print(df)\n",
    "\n",
    "    # Увеличиваем все значения в DataFrame на 2\n",
    "    df = df + 2\n",
    "    print(df)\n",
    "\n",
    "    # К последнему столбцу добавляем элементы первого столбца\n",
    "    df[df.columns[-1]] = df[df.columns[-1]] + df[df.columns[0]]\n",
    "    print(df)\n",
    "\n",
    "    # Возвращаем последний элемент последней строки\n",
    "    return df.iloc[-1, -1]\n",
    "\n"
   ]
  },
  {
   "cell_type": "code",
   "execution_count": 6,
   "metadata": {},
   "outputs": [
    {
     "name": "stdout",
     "output_type": "stream",
     "text": [
      "   0   1   2\n",
      "V  1  11  21\n",
      "E  1   2   3\n",
      "F -1  -2  -3\n",
      "   0   1   2\n",
      "V  1  11  21\n",
      "F -1  -2  -3\n",
      "E  1   2   3\n",
      "   0   1   2\n",
      "V  3  13  23\n",
      "F  1   0  -1\n",
      "E  3   4   5\n",
      "   0   1   2\n",
      "V  3  13  26\n",
      "F  1   0   0\n",
      "E  3   4   8\n",
      "8\n"
     ]
    }
   ],
   "source": [
    "# Примеры вызова функции:\n",
    "print(frame_data([[1, 11, 21], [1, 2, 3], [-1, -2, -3]], ['V', 'E', 'F']))  # Ожидаемый результат: 8\n",
    "# print(frame_data([[111, 111, 31, 41, 51, 116], [141, 15, 61, 6, 717, 160], [77, 82, 91, 324, 314, 10]], ['Z', 'E', 'F']))  # Ожидаемый результат: 305\n"
   ]
  }
 ],
 "metadata": {
  "kernelspec": {
   "display_name": ".venv",
   "language": "python",
   "name": "python3"
  },
  "language_info": {
   "codemirror_mode": {
    "name": "ipython",
    "version": 3
   },
   "file_extension": ".py",
   "mimetype": "text/x-python",
   "name": "python",
   "nbconvert_exporter": "python",
   "pygments_lexer": "ipython3",
   "version": "3.10.11"
  }
 },
 "nbformat": 4,
 "nbformat_minor": 2
}
