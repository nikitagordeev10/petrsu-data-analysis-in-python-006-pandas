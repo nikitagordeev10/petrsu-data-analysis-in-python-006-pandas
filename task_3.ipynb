{
 "cells": [
  {
   "cell_type": "markdown",
   "metadata": {},
   "source": [
    "В файле tranzaktions.csv приведена история продаж автомобилей тремя продавцами seller_1, seller_2, seller_3 автомагазина. Написать функцию sellers(n), в которую передается номер продавца n (1<= n<=3). В функции, используя методы модуля pandas:\n",
    "\n",
    "- Преобразовать файл tranzaktions.csv в DataFrame.\n",
    "- Используя агрегацию найти и сохранить в переменные sum_n и avg_n соответственно сумму и среднее значение вырученных средств продавца с номером n (seller_n). Среднее значение avg_n, используя функцию round(), округлить до целого числа.\n",
    "- Используя агрегацию найти и сохранить в переменную avg2_n  среднее значение вырученных средств продавца с номером n (seller_n) при продаже автомобилей, цена которых >= 2 миллиона. Среднее значение avg2_n, используя функцию round(), округлить до целого числа.\n",
    "- Функция sellers(n) с помощью return должна возвращать сумму значений sum_n, avg_n и avg2_n.\n",
    "- Найти значение sel_n, которое возвращает sellers(n) при n=2.\n",
    "\n"
   ]
  },
  {
   "cell_type": "code",
   "execution_count": 2,
   "metadata": {},
   "outputs": [
    {
     "name": "stdout",
     "output_type": "stream",
     "text": [
      "11.7\n",
      "2\n",
      "2\n",
      "15.7\n"
     ]
    }
   ],
   "source": [
    "import pandas as pd\n",
    "\n",
    "def sellers(n):\n",
    "    # Преобразуем файл tranzaktions.csv в DataFrame\n",
    "    df = pd.read_csv('tranzaktions.csv', sep='\\t', engine='python')\n",
    "\n",
    "    # Определяем имя продавца\n",
    "    seller = f'seller_{n}'\n",
    "\n",
    "    # Сумма вырученных средств для seller_n\n",
    "    sum_n = df[df['Продавец'] == seller]['Цена (млн)'].sum()\n",
    "    print(sum_n)\n",
    "\n",
    "    # Среднее значение вырученных средств для seller_n\n",
    "    avg_n = round(df[df['Продавец'] == seller]['Цена (млн)'].mean())\n",
    "    print(avg_n)\n",
    "\n",
    "    # Среднее значение вырученных средств для seller_n, если цена >= 2 млн\n",
    "    avg2_n = round(df[(df['Продавец'] == seller) & (df['Цена (млн)'] >= 2)]['Цена (млн)'].mean())\n",
    "    print(avg2_n)\n",
    "\n",
    "    # Возвращаем значения\n",
    "    return sum_n + avg_n + avg2_n\n",
    "\n",
    "# Вычисляем значение для n=2\n",
    "sel_n = sellers(2)\n",
    "print(sel_n)"
   ]
  }
 ],
 "metadata": {
  "kernelspec": {
   "display_name": ".venv",
   "language": "python",
   "name": "python3"
  },
  "language_info": {
   "codemirror_mode": {
    "name": "ipython",
    "version": 3
   },
   "file_extension": ".py",
   "mimetype": "text/x-python",
   "name": "python",
   "nbconvert_exporter": "python",
   "pygments_lexer": "ipython3",
   "version": "3.10.11"
  }
 },
 "nbformat": 4,
 "nbformat_minor": 2
}
