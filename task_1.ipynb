{
 "cells": [
  {
   "cell_type": "markdown",
   "metadata": {},
   "source": [
    "Создайте функцию series_data(name,index), в которой сгенерируйте объект s типа Series, содержащий все целые положительные числа меньшие 10000 и кратные 17. Озаглавьте серию как name. Индексы в серии s должны начинаться с 1 (1, 2, 3, …). Преобразуйте числа, начиная с числа с индексом index (50 < index < 300) и до конца списка следующим образом: \n",
    "\n",
    "- если индекс нечетный (1, 3…), то число умножается на 2,\n",
    "- если индекс четный (2, 4…), то к числу прибавляется 555. \n",
    "\n",
    "Функция series_data(name,index) с помощью return возвращает округленное до целого с помощью метода round() среднее арифметическое чисел с индексами index, index+1, index+15.\n",
    "\n",
    "Для примера:\n",
    "\n",
    "\n",
    "| Тест                                     | Результат |\n",
    "| ---------------------------------------- | --------- |\n",
    "| print(series_data('Название серии', 52)) | 1840      |\n",
    "| print(series_data('Название серии', 72)) | 2406      |\n"
   ]
  },
  {
   "cell_type": "code",
   "execution_count": 1,
   "metadata": {},
   "outputs": [],
   "source": [
    "import pandas as pd\n",
    "import numpy as np"
   ]
  },
  {
   "cell_type": "code",
   "execution_count": 1,
   "metadata": {},
   "outputs": [],
   "source": [
    "import pandas as pd\n",
    "\n",
    "def series_data(name, index):\n",
    "    # Создаем список чисел, меньших 10000 и кратных 17\n",
    "    multiples_of_17 = [i for i in range(17, 10000, 17)]\n",
    "\n",
    "    # Создаем серию с индексами, начинающимися с 1\n",
    "    s = pd.Series(multiples_of_17, pd.RangeIndex(1, len(multiples_of_17) + 1), name=name)\n",
    "    print(s)\n",
    "\n",
    "    # Преобразуем элементы согласно условию\n",
    "    for i in range(index , len(s)):  \n",
    "        if i % 2 != 0:  # Проверяем, нечетный ли индекс \n",
    "            s[i] *= 2  # Если индекс нечетный, умножаем на 2\n",
    "        else:\n",
    "            s[i] += 555  # Если индекс четный, прибавляем 555\n",
    "    \n",
    "    # Получаем 3 числа с индексами index, index+1 и index+15\n",
    "    selected_values = [s[index], s[index+1], s[index + 15]]\n",
    "    \n",
    "    # Находим среднее арифметическое для этих трех чисел\n",
    "    mean_value = sum(selected_values) / len(selected_values)\n",
    "    \n",
    "    # Возвращаем округленное значение\n",
    "    return round(mean_value)\n",
    "\n"
   ]
  },
  {
   "cell_type": "code",
   "execution_count": 2,
   "metadata": {},
   "outputs": [
    {
     "name": "stdout",
     "output_type": "stream",
     "text": [
      "1        17\n",
      "2        34\n",
      "3        51\n",
      "4        68\n",
      "5        85\n",
      "       ... \n",
      "584    9928\n",
      "585    9945\n",
      "586    9962\n",
      "587    9979\n",
      "588    9996\n",
      "Name: Название серии, Length: 588, dtype: int64\n",
      "1840\n",
      "1        17\n",
      "2        34\n",
      "3        51\n",
      "4        68\n",
      "5        85\n",
      "       ... \n",
      "584    9928\n",
      "585    9945\n",
      "586    9962\n",
      "587    9979\n",
      "588    9996\n",
      "Name: Название серии, Length: 588, dtype: int64\n",
      "2406\n",
      "1        17\n",
      "2        34\n",
      "3        51\n",
      "4        68\n",
      "5        85\n",
      "       ... \n",
      "584    9928\n",
      "585    9945\n",
      "586    9962\n",
      "587    9979\n",
      "588    9996\n",
      "Name: Название серии, Length: 588, dtype: int64\n",
      "5240\n",
      "1        17\n",
      "2        34\n",
      "3        51\n",
      "4        68\n",
      "5        85\n",
      "       ... \n",
      "584    9928\n",
      "585    9945\n",
      "586    9962\n",
      "587    9979\n",
      "588    9996\n",
      "Name: Название серии, Length: 588, dtype: int64\n",
      "4790\n",
      "1        17\n",
      "2        34\n",
      "3        51\n",
      "4        68\n",
      "5        85\n",
      "       ... \n",
      "584    9928\n",
      "585    9945\n",
      "586    9962\n",
      "587    9979\n",
      "588    9996\n",
      "Name: Название серии, Length: 588, dtype: int64\n",
      "5017\n"
     ]
    }
   ],
   "source": [
    "# Примеры вызова функции:\n",
    "print(series_data('Название серии', 52)) # 1840 \n",
    "print(series_data('Название серии', 72)) # 2406\n",
    "print(series_data('Название серии', 172)) # 5240\n",
    "print(series_data('Название серии', 191)) # 4790\n",
    "print(series_data('Название серии', 201)) # 5017"
   ]
  }
 ],
 "metadata": {
  "kernelspec": {
   "display_name": ".venv",
   "language": "python",
   "name": "python3"
  },
  "language_info": {
   "codemirror_mode": {
    "name": "ipython",
    "version": 3
   },
   "file_extension": ".py",
   "mimetype": "text/x-python",
   "name": "python",
   "nbconvert_exporter": "python",
   "pygments_lexer": "ipython3",
   "version": "3.10.11"
  }
 },
 "nbformat": 4,
 "nbformat_minor": 2
}
