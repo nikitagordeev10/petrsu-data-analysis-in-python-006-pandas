{
 "cells": [
  {
   "cell_type": "markdown",
   "metadata": {},
   "source": [
    "Скачать набор данных (таблицу) CreditCardTransaction.csv с https://www.kaggle.com/datasets/ybifoundation/credit-card-transaction. Прочитать и сохранить эту таблицу в pd.DataFrame с именем df.\n",
    "\n",
    "1. Задав np.random.seed(12) и используя методsample(), из df получите выборку, содержащую 10000 строк. Выборку сохраните в переменную dfs.\n",
    "2. Получите количество раз [с помощью метода value_counts()], которое встретился каждый департамент (значение столбца Department) в dfs. Выведите3 департамента, которые наиболее часто[с помощью метода nlargest()] встречаются в dfs.\n",
    "3. В dfs получить размер сумм транзакций (поле TrnxAmount) соответствующие январю или февралю 2022 года (поля Year и Month) и:\n",
    "\n",
    "- Найдите медиану[с помощью метода .median()] сумм транзакций полученных значений.\n",
    "- Добавьте в dfs столбец с разностью значений модуля найденной медианы и модуля значения из поля TrnxAmount."
   ]
  },
  {
   "cell_type": "code",
   "execution_count": 1,
   "metadata": {},
   "outputs": [],
   "source": [
    "import pandas as pd\n",
    "import numpy as np"
   ]
  },
  {
   "cell_type": "code",
   "execution_count": 2,
   "metadata": {},
   "outputs": [],
   "source": [
    "# Загрузка данных из файла\n",
    "file_path = 'CreditCardTransaction.csv'  # Замените на путь к вашему файлу\n",
    "df = pd.read_csv(file_path)"
   ]
  },
  {
   "cell_type": "code",
   "execution_count": 3,
   "metadata": {},
   "outputs": [],
   "source": [
    "# Установка случайного состояния и создание выборки\n",
    "np.random.seed(12)\n",
    "dfs = df.sample(n=10000, random_state=12)"
   ]
  },
  {
   "cell_type": "code",
   "execution_count": 4,
   "metadata": {},
   "outputs": [
    {
     "name": "stdout",
     "output_type": "stream",
     "text": [
      "Три наиболее часто встречающихся департамента:\n",
      "Department\n",
      "DEPT OF NATRL RES AND ENV CONT    1310\n",
      "DEPT OF CORRECTIONS               1069\n",
      "DEPT OF TRANSPORTATION            1064\n",
      "Name: count, dtype: int64\n"
     ]
    }
   ],
   "source": [
    "# Подсчёт количества вхождений каждого департамента\n",
    "department_counts = dfs['Department'].value_counts()\n",
    "top_3_departments = department_counts.nlargest(3)\n",
    "print(\"Три наиболее часто встречающихся департамента:\")\n",
    "print(top_3_departments)"
   ]
  },
  {
   "cell_type": "code",
   "execution_count": 5,
   "metadata": {},
   "outputs": [],
   "source": [
    "# Фильтрация транзакций за январь и февраль 2022 года\n",
    "jan_feb_transactions = dfs[(dfs['Year'] == 2022) & (dfs['Month'].isin([1, 2]))]['TrnxAmount']"
   ]
  },
  {
   "cell_type": "code",
   "execution_count": 6,
   "metadata": {},
   "outputs": [
    {
     "name": "stdout",
     "output_type": "stream",
     "text": [
      "Медиана сумм транзакций за январь и февраль 2022 года: 100.0\n"
     ]
    }
   ],
   "source": [
    "# Нахождение медианы сумм транзакций\n",
    "median_transaction = jan_feb_transactions.median()\n",
    "print(f\"Медиана сумм транзакций за январь и февраль 2022 года: {median_transaction}\")"
   ]
  },
  {
   "cell_type": "code",
   "execution_count": 7,
   "metadata": {},
   "outputs": [
    {
     "data": {
      "text/html": [
       "<div>\n",
       "<style scoped>\n",
       "    .dataframe tbody tr th:only-of-type {\n",
       "        vertical-align: middle;\n",
       "    }\n",
       "\n",
       "    .dataframe tbody tr th {\n",
       "        vertical-align: top;\n",
       "    }\n",
       "\n",
       "    .dataframe thead th {\n",
       "        text-align: right;\n",
       "    }\n",
       "</style>\n",
       "<table border=\"1\" class=\"dataframe\">\n",
       "  <thead>\n",
       "    <tr style=\"text-align: right;\">\n",
       "      <th></th>\n",
       "      <th>Year</th>\n",
       "      <th>Month</th>\n",
       "      <th>Department</th>\n",
       "      <th>Division</th>\n",
       "      <th>Merchant</th>\n",
       "      <th>TranxDescription</th>\n",
       "      <th>TranxDate</th>\n",
       "      <th>TrnxAmount</th>\n",
       "      <th>Difference</th>\n",
       "    </tr>\n",
       "  </thead>\n",
       "  <tbody>\n",
       "    <tr>\n",
       "      <th>472593</th>\n",
       "      <td>2021</td>\n",
       "      <td>9</td>\n",
       "      <td>DEPT OF NATRL RES AND ENV CONT</td>\n",
       "      <td>Parks and Recreation</td>\n",
       "      <td>GRAINGER</td>\n",
       "      <td>Industrial Supplies Not Elsewhere Classified</td>\n",
       "      <td>03-11-2021</td>\n",
       "      <td>195.94</td>\n",
       "      <td>-95.94</td>\n",
       "    </tr>\n",
       "    <tr>\n",
       "      <th>62119</th>\n",
       "      <td>2019</td>\n",
       "      <td>4</td>\n",
       "      <td>DEPT OF SAFETY AND HOMELAND</td>\n",
       "      <td>State Police-Executive</td>\n",
       "      <td>PANERA BREAD #600943</td>\n",
       "      <td>Eating Places Restaurants</td>\n",
       "      <td>10-04-2018</td>\n",
       "      <td>12.94</td>\n",
       "      <td>87.06</td>\n",
       "    </tr>\n",
       "    <tr>\n",
       "      <th>277405</th>\n",
       "      <td>2020</td>\n",
       "      <td>5</td>\n",
       "      <td>DEPT OF SAFETY AND HOMELAND</td>\n",
       "      <td>Dema</td>\n",
       "      <td>UBER TRIP</td>\n",
       "      <td>Travel</td>\n",
       "      <td>11/21/2019</td>\n",
       "      <td>24.89</td>\n",
       "      <td>75.11</td>\n",
       "    </tr>\n",
       "    <tr>\n",
       "      <th>682377</th>\n",
       "      <td>2022</td>\n",
       "      <td>12</td>\n",
       "      <td>FIRST STATE MILITARY ACADEMY</td>\n",
       "      <td>First State Military Academy</td>\n",
       "      <td>SPORTS NETWORK INTERNATIO</td>\n",
       "      <td>Recreation Services Not Elsewhere Classified</td>\n",
       "      <td>06/15/2022</td>\n",
       "      <td>210.00</td>\n",
       "      <td>-110.00</td>\n",
       "    </tr>\n",
       "    <tr>\n",
       "      <th>670575</th>\n",
       "      <td>2022</td>\n",
       "      <td>12</td>\n",
       "      <td>EXECUTIVE</td>\n",
       "      <td>Office of the Governor</td>\n",
       "      <td>LEXISNEXIS PAYMENT CTR</td>\n",
       "      <td>Business Services-Not Elsewhere Classified</td>\n",
       "      <td>05/27/2022</td>\n",
       "      <td>485.00</td>\n",
       "      <td>-385.00</td>\n",
       "    </tr>\n",
       "    <tr>\n",
       "      <th>...</th>\n",
       "      <td>...</td>\n",
       "      <td>...</td>\n",
       "      <td>...</td>\n",
       "      <td>...</td>\n",
       "      <td>...</td>\n",
       "      <td>...</td>\n",
       "      <td>...</td>\n",
       "      <td>...</td>\n",
       "      <td>...</td>\n",
       "    </tr>\n",
       "    <tr>\n",
       "      <th>568037</th>\n",
       "      <td>2022</td>\n",
       "      <td>4</td>\n",
       "      <td>DEPT OF TRANSPORTATION</td>\n",
       "      <td>Maintenance Districts</td>\n",
       "      <td>TRI-STATE BATTERY</td>\n",
       "      <td>Business Services-Not Elsewhere Classified</td>\n",
       "      <td>09/29/2021</td>\n",
       "      <td>480.00</td>\n",
       "      <td>-380.00</td>\n",
       "    </tr>\n",
       "    <tr>\n",
       "      <th>552369</th>\n",
       "      <td>2022</td>\n",
       "      <td>3</td>\n",
       "      <td>DEPT OF TRANSPORTATION</td>\n",
       "      <td>Maintenance Districts</td>\n",
       "      <td>FASTENAL COMPANY 01DENEW</td>\n",
       "      <td>Industrial Supplies Not Elsewhere Classified</td>\n",
       "      <td>09/15/2021</td>\n",
       "      <td>18.38</td>\n",
       "      <td>81.62</td>\n",
       "    </tr>\n",
       "    <tr>\n",
       "      <th>658432</th>\n",
       "      <td>2022</td>\n",
       "      <td>11</td>\n",
       "      <td>DEPT OF CORRECTIONS</td>\n",
       "      <td>Food Services</td>\n",
       "      <td>H. SCHRIER And CO. INC.</td>\n",
       "      <td>Misc Food Store-Convenience Mrkt Splty Vendng ...</td>\n",
       "      <td>05-06-2022</td>\n",
       "      <td>13744.00</td>\n",
       "      <td>-13644.00</td>\n",
       "    </tr>\n",
       "    <tr>\n",
       "      <th>741398</th>\n",
       "      <td>2023</td>\n",
       "      <td>4</td>\n",
       "      <td>DEPT OF LABOR</td>\n",
       "      <td>Employment And Training Serv</td>\n",
       "      <td>COGNITO-TEAM</td>\n",
       "      <td>Computer Software Stores</td>\n",
       "      <td>10-01-2022</td>\n",
       "      <td>45.00</td>\n",
       "      <td>55.00</td>\n",
       "    </tr>\n",
       "    <tr>\n",
       "      <th>182665</th>\n",
       "      <td>2019</td>\n",
       "      <td>12</td>\n",
       "      <td>JUDICIAL</td>\n",
       "      <td>Family Court</td>\n",
       "      <td>GRAINGER</td>\n",
       "      <td>Industrial Supplies Not Elsewhere Classified</td>\n",
       "      <td>06-10-2019</td>\n",
       "      <td>33.60</td>\n",
       "      <td>66.40</td>\n",
       "    </tr>\n",
       "  </tbody>\n",
       "</table>\n",
       "<p>10000 rows × 9 columns</p>\n",
       "</div>"
      ],
      "text/plain": [
       "        Year  Month                      Department  \\\n",
       "472593  2021      9  DEPT OF NATRL RES AND ENV CONT   \n",
       "62119   2019      4     DEPT OF SAFETY AND HOMELAND   \n",
       "277405  2020      5     DEPT OF SAFETY AND HOMELAND   \n",
       "682377  2022     12    FIRST STATE MILITARY ACADEMY   \n",
       "670575  2022     12                       EXECUTIVE   \n",
       "...      ...    ...                             ...   \n",
       "568037  2022      4          DEPT OF TRANSPORTATION   \n",
       "552369  2022      3          DEPT OF TRANSPORTATION   \n",
       "658432  2022     11             DEPT OF CORRECTIONS   \n",
       "741398  2023      4                   DEPT OF LABOR   \n",
       "182665  2019     12                        JUDICIAL   \n",
       "\n",
       "                            Division                   Merchant  \\\n",
       "472593          Parks and Recreation                   GRAINGER   \n",
       "62119         State Police-Executive       PANERA BREAD #600943   \n",
       "277405                          Dema                  UBER TRIP   \n",
       "682377  First State Military Academy  SPORTS NETWORK INTERNATIO   \n",
       "670575        Office of the Governor     LEXISNEXIS PAYMENT CTR   \n",
       "...                              ...                        ...   \n",
       "568037         Maintenance Districts          TRI-STATE BATTERY   \n",
       "552369         Maintenance Districts   FASTENAL COMPANY 01DENEW   \n",
       "658432                 Food Services    H. SCHRIER And CO. INC.   \n",
       "741398  Employment And Training Serv               COGNITO-TEAM   \n",
       "182665                  Family Court                   GRAINGER   \n",
       "\n",
       "                                         TranxDescription   TranxDate  \\\n",
       "472593       Industrial Supplies Not Elsewhere Classified  03-11-2021   \n",
       "62119                           Eating Places Restaurants  10-04-2018   \n",
       "277405                                             Travel  11/21/2019   \n",
       "682377       Recreation Services Not Elsewhere Classified  06/15/2022   \n",
       "670575         Business Services-Not Elsewhere Classified  05/27/2022   \n",
       "...                                                   ...         ...   \n",
       "568037         Business Services-Not Elsewhere Classified  09/29/2021   \n",
       "552369       Industrial Supplies Not Elsewhere Classified  09/15/2021   \n",
       "658432  Misc Food Store-Convenience Mrkt Splty Vendng ...  05-06-2022   \n",
       "741398                           Computer Software Stores  10-01-2022   \n",
       "182665       Industrial Supplies Not Elsewhere Classified  06-10-2019   \n",
       "\n",
       "        TrnxAmount  Difference  \n",
       "472593      195.94      -95.94  \n",
       "62119        12.94       87.06  \n",
       "277405       24.89       75.11  \n",
       "682377      210.00     -110.00  \n",
       "670575      485.00     -385.00  \n",
       "...            ...         ...  \n",
       "568037      480.00     -380.00  \n",
       "552369       18.38       81.62  \n",
       "658432    13744.00   -13644.00  \n",
       "741398       45.00       55.00  \n",
       "182665       33.60       66.40  \n",
       "\n",
       "[10000 rows x 9 columns]"
      ]
     },
     "execution_count": 7,
     "metadata": {},
     "output_type": "execute_result"
    }
   ],
   "source": [
    "# Добавление нового столбца с разностью медианы и значений транзакций\n",
    "dfs['Difference'] = abs(median_transaction) - abs(dfs['TrnxAmount'])\n",
    "dfs"
   ]
  },
  {
   "cell_type": "code",
   "execution_count": 8,
   "metadata": {},
   "outputs": [
    {
     "name": "stdout",
     "output_type": "stream",
     "text": [
      "Выборка сохранена в файл sample_with_difference.csv\n"
     ]
    }
   ],
   "source": [
    "# Сохранение выборки с новым столбцом, \n",
    "output_path = 'sample_with_difference.csv'\n",
    "dfs.to_csv(output_path, index=False)\n",
    "print(f\"Выборка сохранена в файл {output_path}\")"
   ]
  }
 ],
 "metadata": {
  "kernelspec": {
   "display_name": ".venv",
   "language": "python",
   "name": "python3"
  },
  "language_info": {
   "codemirror_mode": {
    "name": "ipython",
    "version": 3
   },
   "file_extension": ".py",
   "mimetype": "text/x-python",
   "name": "python",
   "nbconvert_exporter": "python",
   "pygments_lexer": "ipython3",
   "version": "3.10.11"
  }
 },
 "nbformat": 4,
 "nbformat_minor": 2
}
