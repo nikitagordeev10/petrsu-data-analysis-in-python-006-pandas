{
 "cells": [
  {
   "cell_type": "markdown",
   "metadata": {},
   "source": [
    "Последовательно выполните:\n",
    "\n",
    "1. Используя функцию random.normal() из модуля numpy, cгенерируйте 200 значений нормально распределённой случайной величины (*). Результат генерации сохраните как pd.Series в переменную s.\n",
    "2. Каждое значение s возведите во 2 степень, индексы элементов s увеличьте на 2.\n",
    "3. Выведите количество значений s, которые больше 2.\n",
    "4. Выведите сумму элементов, строго меньших 2 и имеют нечётные индексы."
   ]
  },
  {
   "cell_type": "code",
   "execution_count": 7,
   "metadata": {},
   "outputs": [],
   "source": [
    "import numpy as np\n",
    "import pandas as pd"
   ]
  },
  {
   "cell_type": "code",
   "execution_count": 8,
   "metadata": {},
   "outputs": [],
   "source": [
    "# Генерация 200 нормально распределённых случайных величин\n",
    "s = pd.Series(np.random.normal(size=200))"
   ]
  },
  {
   "cell_type": "code",
   "execution_count": 9,
   "metadata": {},
   "outputs": [],
   "source": [
    "# Возведение каждого значения s во 2 степень\n",
    "s = s**2\n",
    "\n",
    "# Увеличение индексов на 2\n",
    "s.index = s.index + 2"
   ]
  },
  {
   "cell_type": "code",
   "execution_count": 10,
   "metadata": {},
   "outputs": [
    {
     "data": {
      "text/plain": [
       "np.int64(26)"
      ]
     },
     "execution_count": 10,
     "metadata": {},
     "output_type": "execute_result"
    }
   ],
   "source": [
    "# Количество значений s, которые больше 2\n",
    "count_greater_than_2 = (s > 2).sum()\n",
    "count_greater_than_2"
   ]
  },
  {
   "cell_type": "code",
   "execution_count": 11,
   "metadata": {},
   "outputs": [
    {
     "data": {
      "text/plain": [
       "np.float64(52.81133144481918)"
      ]
     },
     "execution_count": 11,
     "metadata": {},
     "output_type": "execute_result"
    }
   ],
   "source": [
    "# Сумма элементов, строго меньших 2 и имеющих нечётные индексы\n",
    "sum_less_than_2_odd_index = s[(s < 2) & (s.index % 2 != 0)].sum()\n",
    "sum_less_than_2_odd_index"
   ]
  }
 ],
 "metadata": {
  "kernelspec": {
   "display_name": ".venv",
   "language": "python",
   "name": "python3"
  },
  "language_info": {
   "codemirror_mode": {
    "name": "ipython",
    "version": 3
   },
   "file_extension": ".py",
   "mimetype": "text/x-python",
   "name": "python",
   "nbconvert_exporter": "python",
   "pygments_lexer": "ipython3",
   "version": "3.10.11"
  }
 },
 "nbformat": 4,
 "nbformat_minor": 2
}
