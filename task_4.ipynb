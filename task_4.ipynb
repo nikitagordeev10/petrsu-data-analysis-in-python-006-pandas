{
 "cells": [
  {
   "cell_type": "markdown",
   "metadata": {},
   "source": [
    "Зашумленные транзакционные данные представлены в списке transaction = [120, -31, ’20.1’, 12.3, ‘bank’, 12, -4, -7, 150, ‘mr.’, 23, 32, 21]. Необходимо:\n",
    "\n",
    "1. Создать объект pd.Series, значения которого совпадают со значениями transaction, а индексы – целые числа >= 10 и < 23. Сохранить созданный объект в переменную t.\n",
    "2. Из t получить только целые числа элементы (*) и вычислите их несмещенную выборочную дисперсию (применив к t метод .var(ddof=1)) среднее значение (применив к t метод .mean())."
   ]
  },
  {
   "cell_type": "code",
   "execution_count": 1,
   "metadata": {},
   "outputs": [
    {
     "name": "stdout",
     "output_type": "stream",
     "text": [
      "Несмещенная выборочная дисперсия: 3621.111111111111\n",
      "Среднее значение: 35.111111111111114\n"
     ]
    }
   ],
   "source": [
    "import pandas as pd\n",
    "import numpy as np\n",
    "\n",
    "# Исходные данные\n",
    "transaction = [120, -31, '20.1', 12.3, 'bank', 12, -4, -7, 150, 'mr.', 23, 32, 21]\n",
    "\n",
    "# Создание объекта pd.Series с индексами от 10 до 22\n",
    "index_range = range(10, 23)\n",
    "t = pd.Series(transaction, index=index_range)\n",
    "\n",
    "# Фильтрация только целых чисел\n",
    "t_integers = t[t.apply(lambda x: isinstance(x, int))]\n",
    "\n",
    "# Вычисление несмещенной выборочной дисперсии и среднего значения\n",
    "variance = t_integers.var(ddof=1)\n",
    "mean = t_integers.mean()\n",
    "\n",
    "# Вывод результатов\n",
    "print(\"Несмещенная выборочная дисперсия:\", variance)\n",
    "print(\"Среднее значение:\", mean)"
   ]
  }
 ],
 "metadata": {
  "kernelspec": {
   "display_name": ".venv",
   "language": "python",
   "name": "python3"
  },
  "language_info": {
   "codemirror_mode": {
    "name": "ipython",
    "version": 3
   },
   "file_extension": ".py",
   "mimetype": "text/x-python",
   "name": "python",
   "nbconvert_exporter": "python",
   "pygments_lexer": "ipython3",
   "version": "3.12.4"
  }
 },
 "nbformat": 4,
 "nbformat_minor": 2
}
